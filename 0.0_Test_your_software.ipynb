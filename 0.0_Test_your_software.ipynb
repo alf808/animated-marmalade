{
 "cells": [
  {
   "cell_type": "markdown",
   "metadata": {},
   "source": [
    "# SHIFT-ENTER TO EXECUTE A CELL\n",
    "Try it down below!"
   ]
  },
  {
   "cell_type": "code",
   "execution_count": 1,
   "metadata": {
    "pycharm": {
     "is_executing": false
    }
   },
   "outputs": [
    {
     "name": "stdout",
     "output_type": "stream",
     "text": [
      "Everything looks great!\n"
     ]
    }
   ],
   "source": [
    "import numpy as np\n",
    "import pandas as pd\n",
    "from sklearn import datasets\n",
    "import matplotlib.pyplot as plt\n",
    "import seaborn as sns\n",
    "%matplotlib inline\n",
    "\n",
    "print(\"Everything looks great!\")"
   ]
  },
  {
   "cell_type": "markdown",
   "metadata": {},
   "source": [
    "## No errors?\n",
    "\n",
    "If everything looks great... then you are done!  If you have any errors, hit up the [forums](https://forum.codingnomads.co/c/courses/python/6) and let us know whats up!\n",
    "\n"
   ]
  },
  {
   "cell_type": "code",
   "execution_count": 2,
   "metadata": {},
   "outputs": [
    {
     "name": "stdout",
     "output_type": "stream",
     "text": [
      "# packages in environment at /home/nemo/miniconda3/envs/cn_ml_course:\n",
      "#\n",
      "# Name                    Version                   Build  Channel\n",
      "_libgcc_mutex             0.1                        main  \n",
      "argon2-cffi               20.1.0           py38h7b6447c_1  \n",
      "attrs                     19.3.0                     py_0  \n",
      "backcall                  0.2.0                      py_0  \n",
      "blas                      1.0                         mkl  \n",
      "bleach                    3.1.5                      py_0  \n",
      "brotlipy                  0.7.0           py38h7b6447c_1000  \n",
      "ca-certificates           2020.6.24                     0  \n",
      "certifi                   2020.6.20                py38_0  \n",
      "cffi                      1.14.1           py38he30daa8_0  \n",
      "chardet                   3.0.4                 py38_1003  \n",
      "cryptography              2.9.2            py38h1ba5d50_0  \n",
      "cycler                    0.10.0                   py38_0  \n",
      "dbus                      1.13.16              hb2f20db_0  \n",
      "decorator                 4.4.2                      py_0  \n",
      "defusedxml                0.6.0                      py_0  \n",
      "entrypoints               0.3                      py38_0  \n",
      "expat                     2.2.9                he6710b0_2  \n",
      "fontconfig                2.13.0               h9420a91_0  \n",
      "freetype                  2.10.2               h5ab3b9f_0  \n",
      "glib                      2.65.0               h3eb4bd4_0  \n",
      "gst-plugins-base          1.14.0               hbbd80ab_1  \n",
      "gstreamer                 1.14.0               hb31296c_0  \n",
      "icu                       58.2                 he6710b0_3  \n",
      "idna                      2.10                       py_0  \n",
      "importlib-metadata        1.7.0                    py38_0  \n",
      "importlib_metadata        1.7.0                         0  \n",
      "intel-openmp              2020.1                      217  \n",
      "ipykernel                 5.3.4            py38h5ca1d4c_0  \n",
      "ipython                   7.16.1           py38h5ca1d4c_0  \n",
      "ipython_genutils          0.2.0                    py38_0  \n",
      "ipywidgets                7.5.1                      py_0  \n",
      "jedi                      0.17.1                   py38_0  \n",
      "jinja2                    2.11.2                     py_0  \n",
      "joblib                    0.16.0                     py_0  \n",
      "jpeg                      9b                   h024ee3a_2  \n",
      "json5                     0.9.5                      py_0  \n",
      "jsonschema                3.2.0                    py38_0  \n",
      "jupyter                   1.0.0                    py38_7  \n",
      "jupyter_client            6.1.6                      py_0  \n",
      "jupyter_console           6.1.0                      py_0  \n",
      "jupyter_core              4.6.3                    py38_0  \n",
      "jupyterlab                2.1.5                      py_0  \n",
      "jupyterlab_server         1.2.0                      py_0  \n",
      "kiwisolver                1.2.0            py38hfd86e86_0  \n",
      "ld_impl_linux-64          2.33.1               h53a641e_7  \n",
      "libedit                   3.1.20191231         h14c3975_1  \n",
      "libffi                    3.3                  he6710b0_2  \n",
      "libgcc-ng                 9.1.0                hdf63c60_0  \n",
      "libgfortran-ng            7.3.0                hdf63c60_0  \n",
      "libpng                    1.6.37               hbc83047_0  \n",
      "libsodium                 1.0.18               h7b6447c_0  \n",
      "libstdcxx-ng              9.1.0                hdf63c60_0  \n",
      "libuuid                   1.0.3                h1bed415_2  \n",
      "libxcb                    1.14                 h7b6447c_0  \n",
      "libxml2                   2.9.10               he19cac6_1  \n",
      "markupsafe                1.1.1            py38h7b6447c_0  \n",
      "matplotlib                3.2.2                         0  \n",
      "matplotlib-base           3.2.2            py38hef1b27d_0  \n",
      "mistune                   0.8.4           py38h7b6447c_1000  \n",
      "mkl                       2020.1                      217  \n",
      "mkl-service               2.3.0            py38he904b0f_0  \n",
      "mkl_fft                   1.1.0            py38h23d657b_0  \n",
      "mkl_random                1.1.1            py38h0573a6f_0  \n",
      "nbconvert                 5.6.1                    py38_0  \n",
      "nbformat                  5.0.7                      py_0  \n",
      "ncurses                   6.2                  he6710b0_1  \n",
      "notebook                  6.1.1                    py38_0  \n",
      "numpy                     1.19.1           py38hbc911f0_0  \n",
      "numpy-base                1.19.1           py38hfa32c7d_0  \n",
      "openssl                   1.1.1g               h7b6447c_0  \n",
      "packaging                 20.4                       py_0  \n",
      "pandas                    1.1.0            py38he6710b0_0  \n",
      "pandoc                    2.10.1                        0  \n",
      "pandocfilters             1.4.2                    py38_1  \n",
      "parso                     0.7.0                      py_0  \n",
      "pcre                      8.44                 he6710b0_0  \n",
      "pexpect                   4.8.0                    py38_0  \n",
      "pickleshare               0.7.5                 py38_1000  \n",
      "pip                       20.2.2                   py38_0  \n",
      "prometheus_client         0.8.0                      py_0  \n",
      "prompt-toolkit            3.0.5                      py_0  \n",
      "prompt_toolkit            3.0.5                         0  \n",
      "ptyprocess                0.6.0                    py38_0  \n",
      "pycparser                 2.20                       py_2  \n",
      "pygments                  2.6.1                      py_0  \n",
      "pyopenssl                 19.1.0                     py_1  \n",
      "pyparsing                 2.4.7                      py_0  \n",
      "pyqt                      5.9.2            py38h05f1152_4  \n",
      "pyrsistent                0.16.0           py38h7b6447c_0  \n",
      "pysocks                   1.7.1                    py38_0  \n",
      "python                    3.8.5                hcff3b4d_0  \n",
      "python-dateutil           2.8.1                      py_0  \n",
      "pytz                      2020.1                     py_0  \n",
      "pyzmq                     19.0.1           py38he6710b0_1  \n",
      "qt                        5.9.7                h5867ecd_1  \n",
      "qtconsole                 4.7.5                      py_0  \n",
      "qtpy                      1.9.0                      py_0  \n",
      "readline                  8.0                  h7b6447c_0  \n",
      "requests                  2.24.0                     py_0  \n",
      "scikit-learn              0.23.1           py38h423224d_0  \n",
      "scipy                     1.5.0            py38h0b6359f_0  \n",
      "seaborn                   0.10.1                     py_0  \n",
      "send2trash                1.5.0                    py38_0  \n",
      "setuptools                49.6.0                   py38_0  \n",
      "sip                       4.19.13          py38he6710b0_0  \n",
      "six                       1.15.0                     py_0  \n",
      "sqlite                    3.32.3               h62c20be_0  \n",
      "terminado                 0.8.3                    py38_0  \n",
      "testpath                  0.4.4                      py_0  \n",
      "threadpoolctl             2.1.0              pyh5ca1d4c_0  \n",
      "tk                        8.6.10               hbc83047_0  \n",
      "tornado                   6.0.4            py38h7b6447c_1  \n",
      "traitlets                 4.3.3                    py38_0  \n",
      "urllib3                   1.25.10                    py_0  \n",
      "wcwidth                   0.2.5                      py_0  \n",
      "webencodings              0.5.1                    py38_1  \n",
      "wheel                     0.34.2                   py38_0  \n",
      "widgetsnbextension        3.5.1                    py38_0  \n",
      "xz                        5.2.5                h7b6447c_0  \n",
      "zeromq                    4.3.2                he6710b0_2  \n",
      "zipp                      3.1.0                      py_0  \n",
      "zlib                      1.2.11               h7b6447c_3  \n"
     ]
    }
   ],
   "source": [
    "!conda list"
   ]
  },
  {
   "cell_type": "code",
   "execution_count": null,
   "metadata": {},
   "outputs": [],
   "source": []
  }
 ],
 "metadata": {
  "kernelspec": {
   "display_name": "Python 3",
   "language": "python",
   "name": "python3"
  },
  "language_info": {
   "codemirror_mode": {
    "name": "ipython",
    "version": 3
   },
   "file_extension": ".py",
   "mimetype": "text/x-python",
   "name": "python",
   "nbconvert_exporter": "python",
   "pygments_lexer": "ipython3",
   "version": "3.8.5"
  },
  "pycharm": {
   "stem_cell": {
    "cell_type": "raw",
    "metadata": {
     "collapsed": false
    },
    "source": []
   }
  }
 },
 "nbformat": 4,
 "nbformat_minor": 4
}
